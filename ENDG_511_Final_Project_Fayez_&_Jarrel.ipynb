{
  "nbformat": 4,
  "nbformat_minor": 0,
  "metadata": {
    "colab": {
      "provenance": [],
      "authorship_tag": "ABX9TyPUumKh2htQdmTf/kbm9+rm",
      "include_colab_link": true
    },
    "kernelspec": {
      "name": "python3",
      "display_name": "Python 3"
    },
    "language_info": {
      "name": "python"
    }
  },
  "cells": [
    {
      "cell_type": "markdown",
      "metadata": {
        "id": "view-in-github",
        "colab_type": "text"
      },
      "source": [
        "<a href=\"https://colab.research.google.com/github/jarrelg/ENDG-511-Final-Project/blob/main/ENDG_511_Final_Project_Fayez_%26_Jarrel.ipynb\" target=\"_parent\"><img src=\"https://colab.research.google.com/assets/colab-badge.svg\" alt=\"Open In Colab\"/></a>"
      ]
    },
    {
      "cell_type": "markdown",
      "source": [
        "# **ENDG 511 Final Project**\n",
        "# **Real-Time Clothing Recognition for the Visually Impaired and IoT Devices**\n",
        "# Authors: Fayez Khan (30107199) and Jarrel Gumpal (30069206)\n"
      ],
      "metadata": {
        "id": "FmovNsgNqnHg"
      }
    },
    {
      "cell_type": "code",
      "execution_count": 1,
      "metadata": {
        "colab": {
          "base_uri": "https://localhost:8080/"
        },
        "id": "F_Oe5KTvovve",
        "outputId": "9a7ca471-c42e-4f46-fc81-da2e1882245f"
      },
      "outputs": [
        {
          "output_type": "stream",
          "name": "stdout",
          "text": [
            "test\n"
          ]
        }
      ],
      "source": [
        "print('test')"
      ]
    }
  ]
}